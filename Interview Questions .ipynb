{
 "cells": [
  {
   "cell_type": "markdown",
   "metadata": {},
   "source": [
    "##Given an array S of n integers, find three integers in S such that the sum is closest to a given number, target. \n",
    "Return the sum of the three integers."
   ]
  },
  {
   "cell_type": "code",
   "execution_count": 1,
   "metadata": {},
   "outputs": [],
   "source": [
    "class Solution(object):\n",
    "    def threeSumClosest(self, nums, target):\n",
    "        \n",
    "        nums.sort()\n",
    "        i = 0\n",
    "        result = 0\n",
    "        # Init the distance between result and target with a very large number\n",
    "        \n",
    "        distance = pow(2, 32) - 1\n",
    "        for i in range(len(nums)):\n",
    "            j = i + 1\n",
    "            k = len(nums) - 1\n",
    "            while j < k:\n",
    "                l = [nums[i], nums[j], nums[k]]\n",
    "                if sum(l) == target:\n",
    "                    return target\n",
    "                if abs(sum(l) - target) < distance:\n",
    "                    result = sum(l)\n",
    "                    distance = abs(sum(l) - target)\n",
    "                elif sum(l) > target:\n",
    "                    k -= 1\n",
    "                else:\n",
    "                    j += 1\n",
    "        return result"
   ]
  },
  {
   "cell_type": "code",
   "execution_count": 2,
   "metadata": {},
   "outputs": [],
   "source": [
    "s=Solution()"
   ]
  },
  {
   "cell_type": "code",
   "execution_count": 3,
   "metadata": {},
   "outputs": [
    {
     "data": {
      "text/plain": [
       "6"
      ]
     },
     "execution_count": 3,
     "metadata": {},
     "output_type": "execute_result"
    }
   ],
   "source": [
    "s.threeSumClosest([3,5,-1,4],3)"
   ]
  },
  {
   "cell_type": "markdown",
   "metadata": {},
   "source": [
    "##Given an array of strings, return all groups of strings that are anagrams. Represent a group by a list of integers representing the index in the original list. Look at the sample case for clarification."
   ]
  },
  {
   "cell_type": "code",
   "execution_count": 4,
   "metadata": {},
   "outputs": [],
   "source": [
    " class Word(object): \n",
    "    def __init__(self, string, index): \n",
    "        self.string = string \n",
    "        self.index = index \n",
    "         \n",
    "def createDupArray(string, size): \n",
    "    dupArray = [] \n",
    "\n",
    "    for i in range(size): \n",
    "        dupArray.append(Word(string[i], i)) \n",
    "\n",
    "    return dupArray \n",
    "\n",
    "def printAnagramsTogether(wordArr, size): \n",
    "    dupArray = createDupArray(wordArr, size) \n",
    "\n",
    "    for i in range(size): \n",
    "        dupArray[i].string = ''.join(sorted(dupArray[i].string)) \n",
    "        \n",
    "    dupArray = sorted(dupArray, key = lambda k: k.string) \n",
    "\n",
    "    for word in dupArray: \n",
    "        print(wordArr[word.index], end=' ') \n",
    "def __index__(self):\n",
    "    print ('self.wordArr')"
   ]
  },
  {
   "cell_type": "code",
   "execution_count": 5,
   "metadata": {},
   "outputs": [],
   "source": [
    "wordArr = [\"cat\", \"dog\", \"tac\", \"god\", \"act\"] "
   ]
  },
  {
   "cell_type": "code",
   "execution_count": 6,
   "metadata": {},
   "outputs": [
    {
     "name": "stdout",
     "output_type": "stream",
     "text": [
      "cat tac act dog god "
     ]
    }
   ],
   "source": [
    "size = len(wordArr) \n",
    "printAnagramsTogether(wordArr, size) "
   ]
  },
  {
   "cell_type": "code",
   "execution_count": null,
   "metadata": {},
   "outputs": [],
   "source": []
  }
 ],
 "metadata": {
  "kernelspec": {
   "display_name": "Python 3",
   "language": "python",
   "name": "python3"
  },
  "language_info": {
   "codemirror_mode": {
    "name": "ipython",
    "version": 3
   },
   "file_extension": ".py",
   "mimetype": "text/x-python",
   "name": "python",
   "nbconvert_exporter": "python",
   "pygments_lexer": "ipython3",
   "version": "3.6.5"
  }
 },
 "nbformat": 4,
 "nbformat_minor": 2
}
